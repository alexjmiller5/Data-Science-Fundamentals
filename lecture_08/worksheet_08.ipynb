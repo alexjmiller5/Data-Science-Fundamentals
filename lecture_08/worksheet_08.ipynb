{
 "cells": [
  {
   "attachments": {},
   "cell_type": "markdown",
   "metadata": {},
   "source": [
    "# Worksheet 08\n",
    "\n",
    "Name: Alexander Miller\n",
    "UID: U52161825\n",
    "\n",
    "### Topics\n",
    "\n",
    "- Soft Clustering\n",
    "- Clustering Aggregation\n",
    "\n",
    "### Probability Review\n",
    "\n",
    "Read through [the following](https://medium.com/@gallettilance/overview-of-probability-3272b72c82c8)\n",
    "\n",
    "### Soft Clustering\n",
    "\n",
    "We generate 10 data points that come from a normal distribution with mean 5 and variance 1."
   ]
  },
  {
   "cell_type": "code",
   "execution_count": 301,
   "metadata": {},
   "outputs": [
    {
     "name": "stdout",
     "output_type": "stream",
     "text": [
      "[4.74306473938678, 3.6051145620135525, 5.08272428384119, 4.739807222866333, 5.444807356893283, 5.88729790361249, 3.697382302169446, 4.833174325197881, 3.2941783744542796, 4.779631252311084]\n"
     ]
    }
   ],
   "source": [
    "import random\n",
    "import numpy as np\n",
    "from sklearn.cluster import KMeans\n",
    "\n",
    "mean = 5\n",
    "stdev = 1\n",
    "\n",
    "s1 = np.random.normal(mean, stdev, 10).tolist()\n",
    "print(s1)"
   ]
  },
  {
   "cell_type": "markdown",
   "metadata": {},
   "source": [
    "a) Generate 10 more data points, this time coming from a normal distribution with mean 8 and variance 1."
   ]
  },
  {
   "cell_type": "code",
   "execution_count": 302,
   "metadata": {},
   "outputs": [
    {
     "name": "stdout",
     "output_type": "stream",
     "text": [
      "[8.546276256846639, 8.82000871018924, 7.696370457075242, 9.741751095552079, 8.876036333536375, 8.795117393104267, 7.608442641174135, 6.873850172380495, 9.761017484919064, 9.000557907030824]\n"
     ]
    }
   ],
   "source": [
    "s2 = np.random.normal(8, 1, 10).tolist()\n",
    "print(s2)"
   ]
  },
  {
   "cell_type": "markdown",
   "metadata": {},
   "source": [
    "b) Flip a fair coin 10 times. If the coin lands on H, then pick the last data point of `c1` and remove it from `c1`, if T then pick the last data point from `c2` and remove it from `c2`. Add these 10 points to a list called `data`."
   ]
  },
  {
   "cell_type": "code",
   "execution_count": 303,
   "metadata": {},
   "outputs": [
    {
     "name": "stdout",
     "output_type": "stream",
     "text": [
      "[4.779631252311084, 3.2941783744542796, 9.000557907030824, 9.761017484919064, 4.833174325197881, 3.697382302169446, 5.88729790361249, 6.873850172380495, 7.608442641174135, 5.444807356893283]\n"
     ]
    }
   ],
   "source": [
    "data = []\n",
    "for i in range(10):\n",
    "    # flip coin\n",
    "    coin_output = random.choice([0, 1])\n",
    "    if coin_output == 0:\n",
    "        p1 = s1.pop()\n",
    "        data.append(p1)\n",
    "    else:\n",
    "        p2 = s2.pop()\n",
    "        data.append(p2)\n",
    "print(data)"
   ]
  },
  {
   "cell_type": "markdown",
   "metadata": {},
   "source": [
    "c) This `data` is a Gaussian Mixture Distribution with 2 mixture components. Over the next few questions we will walk through the GMM algorithm to see if we can uncover the parameters we used to generate this data. First, please list all these parameters of the GMM that created `data` and the values we know they have."
   ]
  },
  {
   "cell_type": "markdown",
   "metadata": {},
   "source": [
    "#### The parameters are as such:\n",
    "Number of componnents: 2\n",
    "Means: 5, 8\n",
    "Variances: 1, 1\n",
    "Number of weights: 10"
   ]
  },
  {
   "cell_type": "markdown",
   "metadata": {},
   "source": [
    "d) Let's assume there are two mixture components (note: we could plot the data and make the observation that there are two clusters). The EM algorithm asks us to start with a random `mean_j`, `variance_j`, `P(S_j)` for each component j. One method we could use to find sensible values for these is to apply K means with k=2 here.\n",
    "\n",
    "1. the centroids would be the estimates of the `mean_j`\n",
    "2. the intra-cluster variance could be the estimate of `variance_j`\n",
    "3. the proportion of points in each cluster could be the estimate of `P(S_j)`\n",
    "\n",
    "Go through this process and list the parameter estimates it gives. Are they close or far from the true values?"
   ]
  },
  {
   "cell_type": "code",
   "execution_count": 304,
   "metadata": {},
   "outputs": [
    {
     "name": "stdout",
     "output_type": "stream",
     "text": [
      "[4.779631252311084, 3.2941783744542796, 4.833174325197881, 3.697382302169446, 5.88729790361249, 5.444807356893283]\n",
      "[9.000557907030824, 9.761017484919064, 6.873850172380495, 7.608442641174135]\n",
      "P(S_1) = 0.6,  P(S_2) = 0.4\n",
      "mean_1 = 4.656078585773078,  mean_2 = 8.31096705137613\n",
      "var_1 = 0.8264154991884013,  var_2 = 1.28425681971111\n"
     ]
    },
    {
     "name": "stderr",
     "output_type": "stream",
     "text": [
      "/usr/local/lib/python3.11/site-packages/sklearn/cluster/_kmeans.py:1416: FutureWarning: The default value of `n_init` will change from 10 to 'auto' in 1.4. Set the value of `n_init` explicitly to suppress the warning\n",
      "  super()._check_params_vs_input(X, default_n_init=10)\n"
     ]
    }
   ],
   "source": [
    "kmeans = KMeans(2, init='k-means++').fit(X=np.array(data).reshape(-1, 1))\n",
    "\n",
    "s1 = [x[0] for x in filter(lambda x: x[1] == 0, zip(data, kmeans.labels_))]\n",
    "print(s1)\n",
    "s2 = [x[0] for x in filter(lambda x: x[1] == 1, zip(data, kmeans.labels_))]\n",
    "print(s2)\n",
    "\n",
    "prob_s = [ len(s1) / (len(s1) + len(s2)) , len(s2) / (len(s1) + len(s2)) ]\n",
    "mean = [ sum(s1)/len(s1) , sum(s2)/len(s2) ]\n",
    "var = [ sum(map(lambda x : (x - mean[0])**2, s1)) / len(s1) , sum(map(lambda x : (x - mean[1])**2, s2)) / len(s2) ]\n",
    "\n",
    "print(\"P(S_1) = \" + str(prob_s[0]) + \",  P(S_2) = \" + str(prob_s[1]))\n",
    "print(\"mean_1 = \" + str(mean[0]) + \",  mean_2 = \" + str(mean[1]))\n",
    "print(\"var_1 = \" + str(var[0]) + \",  var_2 = \" + str(var[1]))"
   ]
  },
  {
   "cell_type": "markdown",
   "metadata": {},
   "source": [
    "The variances aren't great, and the means are alright. They're not bad, but they're not great."
   ]
  },
  {
   "cell_type": "markdown",
   "metadata": {},
   "source": [
    "e) For each data point, compute `P(S_j | X_i)`. Comment on which cluster you think each point belongs to based on the estimated probabilities. How does that compare to the truth?"
   ]
  },
  {
   "cell_type": "code",
   "execution_count": 305,
   "metadata": {},
   "outputs": [
    {
     "name": "stdout",
     "output_type": "stream",
     "text": [
      "point =  4.779631252311084\n",
      "probability of observing that point if it came from cluster 0 =  0.4773732047929539\n",
      "probability of observing that point if it came from cluster 1 =  0.007086416376553293\n",
      "point =  3.2941783744542796\n",
      "probability of observing that point if it came from cluster 0 =  0.12416200735690727\n",
      "probability of observing that point if it came from cluster 1 =  0.0001508836753097447\n",
      "point =  9.000557907030824\n",
      "probability of observing that point if it came from cluster 0 =  4.81486140533924e-07\n",
      "probability of observing that point if it came from cluster 1 =  0.2689364390477234\n",
      "point =  9.761017484919064\n",
      "probability of observing that point if it came from cluster 0 =  2.4993908365995163e-09\n",
      "probability of observing that point if it came from cluster 1 =  0.16421993649035785\n",
      "point =  4.833174325197881\n",
      "probability of observing that point if it came from cluster 0 =  0.4717803089394495\n",
      "probability of observing that point if it came from cluster 1 =  0.007940301801378622\n",
      "point =  3.697382302169446\n",
      "probability of observing that point if it came from cluster 0 =  0.24631177836677956\n",
      "probability of observing that point if it came from cluster 1 =  0.0004896375679163239\n",
      "point =  5.88729790361249\n",
      "probability of observing that point if it came from cluster 0 =  0.1591228187819439\n",
      "probability of observing that point if it came from cluster 1 =  0.05234443924492514\n",
      "point =  6.873850172380495\n",
      "probability of observing that point if it came from cluster 0 =  0.013178810609011608\n",
      "probability of observing that point if it came from cluster 1 =  0.16608950960715535\n",
      "point =  7.608442641174135\n",
      "probability of observing that point if it came from cluster 0 =  0.0008171923356496023\n",
      "probability of observing that point if it came from cluster 1 =  0.2674724957108677\n",
      "point =  5.444807356893283\n",
      "probability of observing that point if it came from cluster 0 =  0.3061383705779158\n",
      "probability of observing that point if it came from cluster 1 =  0.025745209287482838\n",
      "4.779631252311084\n",
      "Probability of coming from S_1 = 0.9902005761136266\n",
      "Probability of coming from S_2 = 0.009799423886373497\n",
      "\n",
      "3.2941783744542796\n",
      "Probability of coming from S_1 = 0.9991905117088521\n",
      "Probability of coming from S_2 = 0.0008094882911479124\n",
      "\n",
      "9.000557907030824\n",
      "Probability of coming from S_1 = 2.6854942893413703e-06\n",
      "Probability of coming from S_2 = 0.9999973145057106\n",
      "\n",
      "9.761017484919064\n",
      "Probability of coming from S_1 = 2.282966520041869e-08\n",
      "Probability of coming from S_2 = 0.9999999771703348\n",
      "\n",
      "4.833174325197881\n",
      "Probability of coming from S_1 = 0.9889041610503968\n",
      "Probability of coming from S_2 = 0.011095838949603228\n",
      "\n",
      "3.697382302169446\n",
      "Probability of coming from S_1 = 0.9986765025013898\n",
      "Probability of coming from S_2 = 0.0013234974986101107\n",
      "\n",
      "5.88729790361249\n",
      "Probability of coming from S_1 = 0.8201399205468228\n",
      "Probability of coming from S_2 = 0.17986007945317714\n",
      "\n",
      "6.873850172380495\n",
      "Probability of coming from S_1 = 0.1063620888404696\n",
      "Probability of coming from S_2 = 0.8936379111595304\n",
      "\n",
      "7.608442641174135\n",
      "Probability of coming from S_1 = 0.004561951361388617\n",
      "Probability of coming from S_2 = 0.9954380486386114\n",
      "\n",
      "5.444807356893283\n",
      "Probability of coming from S_1 = 0.946911923928739\n",
      "Probability of coming from S_2 = 0.053088076071260974\n",
      "\n"
     ]
    }
   ],
   "source": [
    "from scipy.stats import norm\n",
    "\n",
    "prob_s0_x = [] # P(S_0 | X_i)\n",
    "prob_s1_x = [] # P(S_1 | X_i)\n",
    "prob_x = [] # P(X_i)\n",
    "\n",
    "k = 2\n",
    "\n",
    "for p in data:\n",
    "    print(\"point = \", p)\n",
    "    pdf_i = []\n",
    "\n",
    "    for j in range(k):\n",
    "        # P(X_i | S_j)\n",
    "        pdf_i.append(norm.pdf(p, mean[j], var[j]))\n",
    "        print(\"probability of observing that point if it came from cluster \" + str(j) + \" = \", pdf_i[j])\n",
    "        # P(S_j) already computed\n",
    "        prob_s[j]\n",
    "\n",
    "    # P(X_i) = P(S_0)P(X_i | S_0) + P(S_1)P(X_i | S_1)\n",
    "    prob_x = prob_s[0] * pdf_i[0] + prob_s[1] * pdf_i[1]\n",
    "\n",
    "    # P(S_j | X_i) = P(X_i | S_j)P(S_j) / P(X_i)\n",
    "    prob_s0_x.append( (pdf_i[0] * prob_s[0]) / prob_x )\n",
    "    prob_s1_x.append( (pdf_i[1] * prob_s[1]) / prob_x )\n",
    "\n",
    "probs = zip(data, prob_s0_x, prob_s1_x)\n",
    "for p in probs:\n",
    "    print(p[0])\n",
    "    print(\"Probability of coming from S_1 = \" + str(p[1]))\n",
    "    print(\"Probability of coming from S_2 = \" + str(p[2]))\n",
    "    print()\n"
   ]
  },
  {
   "cell_type": "markdown",
   "metadata": {},
   "source": [
    "The actual probabilites are WAY more accurate than the K-means estimates. The K-means estimates are fine, not great, but the actual probabilities are very close to 1 or 0."
   ]
  },
  {
   "cell_type": "markdown",
   "metadata": {},
   "source": [
    "f) Having computed `P(S_j | X_i)`, update the estimates of `mean_j`, `var_j`, and `P(S_j)`. How different are these values from the original ones you got from K means? briefly comment."
   ]
  },
  {
   "cell_type": "code",
   "execution_count": 306,
   "metadata": {},
   "outputs": [
    {
     "name": "stdout",
     "output_type": "stream",
     "text": [
      "P(S_1) = 0.6,  P(S_2) = 0.4\n",
      "mean_1 = 4.653558214216052,  mean_2 = 8.18662990085102\n",
      "var_1 = 0.8902762055314993,  var_2 = 1.6039891475287462\n"
     ]
    }
   ],
   "source": [
    "prob_c = [sum(prob_s0_x)/ len(prob_s0_x), sum(prob_s1_x)/ len(prob_s1_x) ]\n",
    "mean = [sum([x[0] * x[1] for x in zip(prob_s0_x, data)]) / sum(prob_s0_x), sum([x[0] * x[1] for x in zip(prob_s1_x, data)]) / sum(prob_s1_x) ]\n",
    "var = [ sum([x[0] * (x[1] - mean[0])**2 for x in zip(prob_s0_x, data)]) / sum(prob_s0_x), sum([x[0] * (x[1] - mean[1])**2 for x in zip(prob_s1_x, data)]) / sum(prob_s1_x) ]\n",
    "\n",
    "print(\"P(S_1) = \" + str(prob_s[0]) + \",  P(S_2) = \" + str(prob_s[1]))\n",
    "print(\"mean_1 = \" + str(mean[0]) + \",  mean_2 = \" + str(mean[1]))\n",
    "print(\"var_1 = \" + str(var[0]) + \",  var_2 = \" + str(var[1]))"
   ]
  },
  {
   "cell_type": "markdown",
   "metadata": {},
   "source": [
    "The means and variances are very similar to the original ones from K means"
   ]
  },
  {
   "cell_type": "markdown",
   "metadata": {},
   "source": [
    "g) Update `P(S_j | X_i)`. Comment on any differences or lack thereof you observe."
   ]
  },
  {
   "cell_type": "code",
   "execution_count": 307,
   "metadata": {},
   "outputs": [
    {
     "name": "stdout",
     "output_type": "stream",
     "text": [
      "P(S_1) = 0.646910012164863,  P(S_2) = 0.35308998783513706\n",
      "mean_1 = 4.844885839018969,  mean_2 = 8.450618589475154\n",
      "var_1 = 1.1995243845031074,  var_2 = 1.3305737508239828\n"
     ]
    }
   ],
   "source": [
    "for i in range(10000):\n",
    "    # E-step: compute the probability of each sample belonging to each cluster\n",
    "    prob_s0_x = np.exp(-0.5 * (data - mean[0])**2 / var[0]) / np.sqrt(2 * np.pi * var[0])\n",
    "    prob_s1_x = np.exp(-0.5 * (data - mean[1])**2 / var[1]) / np.sqrt(2 * np.pi * var[1])\n",
    "    prob_c = [sum(prob_s0_x) / len(prob_s0_x), sum(prob_s1_x) / len(prob_s1_x)]\n",
    "    prob_s = [prob_s0_x * prob_c[0] / (prob_s0_x * prob_c[0] + prob_s1_x * prob_c[1]), prob_s1_x * prob_c[1] / (prob_s0_x * prob_c[0] + prob_s1_x * prob_c[1])]\n",
    "\n",
    "    # M-step: update the mean, variance, and prior probability estimates\n",
    "    mean = [sum(prob_s[0] * data) / sum(prob_s[0]), sum(prob_s[1] * data) / sum(prob_s[1])]\n",
    "    var = [sum(prob_s[0] * (data - mean[0])**2) / sum(prob_s[0]), sum(prob_s[1] * (data - mean[1])**2) / sum(prob_s[1])]\n",
    "    prob_s = [sum(prob_s[0]) / len(data), sum(prob_s[1]) / len(data)]\n",
    "\n",
    "print(\"P(S_1) = \" + str(prob_s[0]) + \",  P(S_2) = \" + str(prob_s[1]))\n",
    "print(\"mean_1 = \" + str(mean[0]) + \",  mean_2 = \" + str(mean[1]))\n",
    "print(\"var_1 = \" + str(var[0]) + \",  var_2 = \" + str(var[1]))"
   ]
  },
  {
   "cell_type": "markdown",
   "metadata": {},
   "source": [
    "The updates converge to the K means estimates."
   ]
  },
  {
   "cell_type": "markdown",
   "metadata": {},
   "source": [
    "h) Use `P(S_j | X_i)` to create a hard assignment - label each point as belonging to a specific cluster (0 or 1)"
   ]
  },
  {
   "cell_type": "code",
   "execution_count": 308,
   "metadata": {},
   "outputs": [
    {
     "name": "stdout",
     "output_type": "stream",
     "text": [
      "[0 0 1 1 0 0 0 1 1 0]\n"
     ]
    }
   ],
   "source": [
    "# Compute the hard assignments using the individual probabilities for each data point\n",
    "cluster_assignments = np.argmax(np.array([prob_s0_x, prob_s1_x]), axis=0)\n",
    "\n",
    "# Print out the first few assignments for verification\n",
    "print(cluster_assignments[:10])\n"
   ]
  }
 ],
 "metadata": {
  "kernelspec": {
   "display_name": "Python 3",
   "language": "python",
   "name": "python3"
  },
  "language_info": {
   "codemirror_mode": {
    "name": "ipython",
    "version": 3
   },
   "file_extension": ".py",
   "mimetype": "text/x-python",
   "name": "python",
   "nbconvert_exporter": "python",
   "pygments_lexer": "ipython3",
   "version": "3.11.3"
  },
  "orig_nbformat": 4,
  "vscode": {
   "interpreter": {
    "hash": "e7370f93d1d0cde622a1f8e1c04877d8463912d04d973331ad4851f04de6915a"
   }
  }
 },
 "nbformat": 4,
 "nbformat_minor": 2
}
