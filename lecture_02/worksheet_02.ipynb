{
 "cells": [
  {
   "attachments": {},
   "cell_type": "markdown",
   "metadata": {},
   "source": [
    "# Worksheet 02\n",
    "\n",
    "Name: Alex Miller\n",
    "UID: U52161825\n",
    "\n",
    "### Topics\n",
    "\n",
    "- Effective Programming\n",
    "\n",
    "### Effective Programming\n",
    "\n",
    "a) What is a drawback of the top down approach?\n",
    "\n"
   ]
  },
  {
   "cell_type": "markdown",
   "metadata": {},
   "source": [
    "Debugging is more difficult because you have to go through the entire program to find the error. Also, you may believe you know how to code a certain part abstrctly, but when you get to the details, you may realize you don't know how to code it."
   ]
  },
  {
   "cell_type": "markdown",
   "metadata": {},
   "source": [
    "b) What is a drawback of the bottom up approach?"
   ]
  },
  {
   "cell_type": "markdown",
   "metadata": {},
   "source": [
    "You may end up doing extra work and coding that isn't actually necessary."
   ]
  },
  {
   "cell_type": "markdown",
   "metadata": {},
   "source": [
    "c) What are 3 things you can do to have a better debugging experience?"
   ]
  },
  {
   "cell_type": "markdown",
   "metadata": {},
   "source": [
    "1. Read your code before debugging\n",
    "2. Use print statements\n",
    "3. Write your code in small chuncks"
   ]
  },
  {
   "attachments": {},
   "cell_type": "markdown",
   "metadata": {},
   "source": [
    "d) Follow along with the live coding. You can write your code here:"
   ]
  },
  {
   "cell_type": "code",
   "execution_count": null,
   "metadata": {},
   "outputs": [],
   "source": [
    "self.board[r][c] = \"Q\"\n",
    "\n",
    "def get_queen_on(self, row):\n",
    "    for col in range(len(self.board)):\n",
    "        if self.board[row][col] == \"Q\":\n",
    "            return col\n",
    "    raise ValueError(\"programmer error\")  # should not happen\n",
    "\n",
    "def unset_queen_on(self, row):\n",
    "    self.board[row] = [\"_\" for _ in range(8)]\n",
    "\n",
    "def is_legal_row(self, row, col):\n",
    "    for c in range(col):\n",
    "        if self.board[row][c] == \"Q\":\n",
    "            return False\n",
    "    return True\n",
    "\n",
    "def is_legal_col(self, row, col):\n",
    "    for r in range(row):\n",
    "        if self.board[r][col] == \"Q\":\n",
    "            return False\n",
    "    return True\n",
    "\n",
    "def is_legal_diag(self, row, col):\n",
    "    for r in range(row):\n",
    "        for c in range(col):\n",
    "            if self.board[r][c] == \"Q\":\n",
    "                if abs(row - r) == abs(col - c):\n",
    "                    return False\n",
    "    return True\n",
    "\n",
    "def is_on_board(self, row, col):\n",
    "    return 0 <= row < 8 and 0 <= col < 8\n",
    "\n",
    "def is_legal(self,row,col):\n",
    "    if not self.is_legal_row(row, col):\n",
    "        return False\n",
    "    if not self.is_legal_col(row, col):\n",
    "        return False\n",
    "    if not self.is_legal_diag(row, col):\n",
    "        return False\n",
    "    return True\n",
    "\n",
    "def search(self):\n",
    "    row = 0\n",
    "    col = 0\n",
    "\n",
    "    if self.is_legal(row, col):\n",
    "        self.set_queen_at(row, col)\n",
    "        row += 1\n",
    "        col = 0\n",
    "    else:\n",
    "        col += 1\n",
    "        if col >= 8:\n",
    "            # no queen can placed on that row, back track\n",
    "            col = self.get_queen_on(row - 1)\n",
    "            self.unset_queen_on(row - 1)\n",
    "            col += 1\n",
    "            row -= 1"
   ]
  }
 ],
 "metadata": {
  "kernelspec": {
   "display_name": "Python 3",
   "language": "python",
   "name": "python3"
  },
  "language_info": {
   "name": "python",
   "version": "3.11.1 (main, Dec  7 2022, 00:00:00) [GCC 12.2.1 20221121 (Red Hat 12.2.1-4)]"
  },
  "orig_nbformat": 4,
  "vscode": {
   "interpreter": {
    "hash": "76ca05dc3ea24b2e3b98cdb7774adfbb40773424bf5109b477fd793f623715af"
   }
  }
 },
 "nbformat": 4,
 "nbformat_minor": 2
}
